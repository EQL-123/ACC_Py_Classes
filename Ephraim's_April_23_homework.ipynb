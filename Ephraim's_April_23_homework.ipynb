{
  "nbformat": 4,
  "nbformat_minor": 0,
  "metadata": {
    "colab": {
      "provenance": [],
      "authorship_tag": "ABX9TyPIfStTwEAhqav6u1X9a7X6",
      "include_colab_link": true
    },
    "kernelspec": {
      "name": "python3",
      "display_name": "Python 3"
    },
    "language_info": {
      "name": "python"
    }
  },
  "cells": [
    {
      "cell_type": "markdown",
      "metadata": {
        "id": "view-in-github",
        "colab_type": "text"
      },
      "source": [
        "<a href=\"https://colab.research.google.com/github/EQL-123/ACC_Py_Classes/blob/main/Ephraim's_April_23_homework.ipynb\" target=\"_parent\"><img src=\"https://colab.research.google.com/assets/colab-badge.svg\" alt=\"Open In Colab\"/></a>"
      ]
    },
    {
      "cell_type": "markdown",
      "source": [
        "1. Remove empty srings from the lisy of strings . list1 = [\"Mike\", \"\", \"Emma\", \"Kelly\", \"\" ,\"Brad\"]"
      ],
      "metadata": {
        "id": "G9BHqnzGUOjI"
      }
    },
    {
      "cell_type": "code",
      "source": [
        "list1 = [\"Mike\",'',\"Emma\",\"Kelly\",'',\"Brad\"]\n",
        "indexes_to_remove = (2,5)\n",
        "print(list1)"
      ],
      "metadata": {
        "colab": {
          "base_uri": "https://localhost:8080/"
        },
        "id": "zsUzbs4dU8EA",
        "outputId": "21d4cf26-4abf-42ae-ce2d-3dd5e7a7271a"
      },
      "execution_count": 8,
      "outputs": [
        {
          "output_type": "stream",
          "name": "stdout",
          "text": [
            "['Mike', '', 'Emma', 'Kelly', '', 'Brad']\n"
          ]
        }
      ]
    },
    {
      "cell_type": "markdown",
      "source": [
        "2. Add new item to list after a specified item\n",
        "Write a program to add item 7000 after 6000 in the following python list\n",
        "list1 = [10, 20, [300, 400, [5000, 6000], 500], 30, 40]\n"
      ],
      "metadata": {
        "id": "cyhUEwRBdO-M"
      }
    },
    {
      "cell_type": "code",
      "source": [
        "list1 = [10,20,[300,400,[5000,6000],500],30,40]\n",
        "\n",
        "list1 = [10, 20, [300, 400, [5000, 6000], 500], 30, 40]\n",
        "\n",
        "list1[2][2].append(7000)\n",
        "\n",
        "print(list1)"
      ],
      "metadata": {
        "colab": {
          "base_uri": "https://localhost:8080/"
        },
        "id": "i1n7m0GSfcpJ",
        "outputId": "db976c6d-9175-45db-e0dc-6ee6a11f4ca7"
      },
      "execution_count": 9,
      "outputs": [
        {
          "output_type": "stream",
          "name": "stdout",
          "text": [
            "[10, 20, [300, 400, [5000, 6000, 7000], 500], 30, 40]\n"
          ]
        }
      ]
    },
    {
      "cell_type": "markdown",
      "source": [
        "3. Extend nested list by adding the sublist,You have given a nested list.Write a program to extend it by adding the sublist.Add the sublist ['h','i','j]'\n",
        "Given list: list1 = ['a', 'b', ['c', ['d', 'e', ['f' ,'g', ],'l' ],'m', 'n' ]"
      ],
      "metadata": {
        "id": "ZwcHSaV4gqAf"
      }
    },
    {
      "cell_type": "code",
      "source": [
        " list1 = ['a', 'b', ['c', ['d', 'e', ['f', 'g'], 'l'], 'm', 'n']]\n",
        "\n",
        "list1[2][1][2].extend(['h', 'i', 'j'])\n",
        "\n",
        "print(list1)\n"
      ],
      "metadata": {
        "colab": {
          "base_uri": "https://localhost:8080/"
        },
        "id": "CrsP0819iWQ0",
        "outputId": "233ced9b-51b4-4eeb-e6af-16a6bc2e84dd"
      },
      "execution_count": 12,
      "outputs": [
        {
          "output_type": "stream",
          "name": "stdout",
          "text": [
            "['a', 'b', ['c', ['d', 'e', ['f', 'g', 'h', 'i', 'j'], 'l'], 'm', 'n']]\n"
          ]
        }
      ]
    },
    {
      "cell_type": "markdown",
      "source": [
        "4. Replace lists's item wuth new value if found.You have given a python list.Write a program to find value 20, in the list and replace it with 200.On;y update the first occurance of an item.\n",
        "Given list: list1 = [5,10,15,20,25,50,20]"
      ],
      "metadata": {
        "id": "O1NLamLmly9-"
      }
    },
    {
      "cell_type": "code",
      "source": [
        "list1 = [5, 10, 15, 20, 25, 50, 20]\n",
        "\n",
        "index = list1.index(20)\n",
        "list1[index] = 200\n",
        "\n",
        "print(list1)\n",
        "\n"
      ],
      "metadata": {
        "colab": {
          "base_uri": "https://localhost:8080/"
        },
        "id": "rRN2xYKMnCxn",
        "outputId": "6c99adec-9391-4d88-ce78-1fb2678a361b"
      },
      "execution_count": 13,
      "outputs": [
        {
          "output_type": "stream",
          "name": "stdout",
          "text": [
            "[5, 10, 15, 200, 25, 50, 20]\n"
          ]
        }
      ]
    }
  ]
}