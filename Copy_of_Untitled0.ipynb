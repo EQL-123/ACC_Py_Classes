{
  "nbformat": 4,
  "nbformat_minor": 0,
  "metadata": {
    "colab": {
      "provenance": [],
      "authorship_tag": "ABX9TyPw+94mH9beO4qSndcQ0uRH",
      "include_colab_link": true
    },
    "kernelspec": {
      "name": "python3",
      "display_name": "Python 3"
    },
    "language_info": {
      "name": "python"
    }
  },
  "cells": [
    {
      "cell_type": "markdown",
      "metadata": {
        "id": "view-in-github",
        "colab_type": "text"
      },
      "source": [
        "<a href=\"https://colab.research.google.com/github/EQL-123/ACC_Py_Classes/blob/main/Copy_of_Untitled0.ipynb\" target=\"_parent\"><img src=\"https://colab.research.google.com/assets/colab-badge.svg\" alt=\"Open In Colab\"/></a>"
      ]
    },
    {
      "cell_type": "markdown",
      "source": [],
      "metadata": {
        "id": "Nez2YvXtt78s"
      }
    },
    {
      "cell_type": "markdown",
      "source": [
        "1. dir(str) – Lists all available string methods\n",
        "\n",
        "print(dir(str))\n",
        "🔹 This will return a list of all attributes and methods for string objects.\n",
        "\n",
        "2. upper() – Converts a string to uppercase\n",
        "\n",
        "text = \"hello world\"\n",
        "print(text.upper())  # Output: \"HELLO WORLD\"\n",
        "\n",
        "3. lower() – Converts a string to lowercase\n",
        "\n",
        "text = \"HELLO WORLD\"\n",
        "print(text.lower())  # Output: \"hello world\"\n",
        "\n",
        "4. strip() – Removes leading and trailing whitespace\n",
        "\n",
        "text = \"  hello world  \"\n",
        "print(text.strip())  # Output: \"hello world\"\n",
        "\n",
        "5. replace(old, new) – Replaces occurrences of old with new\n",
        "\n",
        "text = \"I love Python\"\n",
        "print(text.replace(\"Python\", \"Java\"))  # Output: \"I love Java\"\n",
        "\n",
        "6. split(separator) – Splits a string into a list\n",
        "\n",
        "text = \"apple,banana,cherry\"\n",
        "print(text.split(\",\"))  # Output: ['apple', 'banana', 'cherry']\n",
        "\n",
        "7. join(iterable) – Joins elements of an iterable into a string\n",
        "\n",
        "words = ['apple', 'banana', 'cherry']\n",
        "print(\" - \".join(words))  # Output: \"apple - banana - cherry\"\n",
        "8. find(substring) – Returns the index of the first occurrence of a substring\n",
        "\n",
        "text = \"hello world\"\n",
        "print(text.find(\"world\"))  # Output: 6\n",
        "print(text.find(\"Python\"))  # Output: -1 (not found)\n",
        "9. startswith(prefix) – Checks if a string starts with a specific prefix\n",
        "\n",
        "text = \"hello world\"\n",
        "print(text.startswith(\"hello\"))  # Output: True\n",
        "print(text.startswith(\"world\"))  # Output: False\n",
        "\n",
        "10. endswith(suffix) – Checks if a string ends with a specific suffix\n",
        "\n",
        "text = \"hello world\"\n",
        "print(text.endswith(\"world\"))  # Output: True\n",
        "print(text.endswith(\"hello\"))  # Output: False"
      ],
      "metadata": {
        "id": "A8oyJgHvuvFS"
      }
    }
  ]
}