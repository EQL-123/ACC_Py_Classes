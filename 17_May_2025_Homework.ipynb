{
  "nbformat": 4,
  "nbformat_minor": 0,
  "metadata": {
    "colab": {
      "provenance": [],
      "authorship_tag": "ABX9TyOFlG8M6OhPudwq4ORtY6WF",
      "include_colab_link": true
    },
    "kernelspec": {
      "name": "python3",
      "display_name": "Python 3"
    },
    "language_info": {
      "name": "python"
    }
  },
  "cells": [
    {
      "cell_type": "markdown",
      "metadata": {
        "id": "view-in-github",
        "colab_type": "text"
      },
      "source": [
        "<a href=\"https://colab.research.google.com/github/EQL-123/ACC_Py_Classes/blob/main/17_May_2025_Homework.ipynb\" target=\"_parent\"><img src=\"https://colab.research.google.com/assets/colab-badge.svg\" alt=\"Open In Colab\"/></a>"
      ]
    },
    {
      "cell_type": "markdown",
      "source": [
        "Create a grading for students you will create a variable called mark.\n",
        "If someone scored 90 and above give them A\n",
        "If someone scored 80 - 89 give them a B\n",
        "If someone scored 70 - 79 give them a C\n",
        "If someone scored 60 - 69 give them a D\n",
        "If someone scored below 60 give them a FAIL\n",
        "else if not of the above conditions is valid then  print invalid mark\n"
      ],
      "metadata": {
        "id": "YE-AHMmszt0n"
      }
    },
    {
      "cell_type": "code",
      "source": [
        "mark = int(input(\"enter students mark: \"))\n",
        "if mark >= 90:\n",
        "    print(\"A\")\n",
        "elif mark >= 80:\n",
        "    print(\"B\")\n",
        "elif mark >= 70:\n",
        "    print(\"C\")\n",
        "elif mark >= 60:\n",
        "    print(\"D\")\n",
        "elif mark < 60:\n",
        "    print(\"FAIL\")\n",
        "else:\n",
        "    print(\"invalid mark\")"
      ],
      "metadata": {
        "id": "5hNtZ5-Dzxg5"
      },
      "execution_count": null,
      "outputs": []
    }
  ]
}