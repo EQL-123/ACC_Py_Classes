{
  "nbformat": 4,
  "nbformat_minor": 0,
  "metadata": {
    "colab": {
      "provenance": [],
      "authorship_tag": "ABX9TyOZKS9knltX6pOTyAoUd+gC",
      "include_colab_link": true
    },
    "kernelspec": {
      "name": "python3",
      "display_name": "Python 3"
    },
    "language_info": {
      "name": "python"
    }
  },
  "cells": [
    {
      "cell_type": "markdown",
      "metadata": {
        "id": "view-in-github",
        "colab_type": "text"
      },
      "source": [
        "<a href=\"https://colab.research.google.com/github/EQL-123/ACC_Py_Classes/blob/main/April_17_home_work.ipynb\" target=\"_parent\"><img src=\"https://colab.research.google.com/assets/colab-badge.svg\" alt=\"Open In Colab\"/></a>"
      ]
    },
    {
      "cell_type": "markdown",
      "source": [
        "Question 1.What for loop?\n",
        "-A for loop is a control flow statement used to literate over a sequence of items."
      ],
      "metadata": {
        "id": "iD8Tbu_GJ-SC"
      }
    },
    {
      "cell_type": "markdown",
      "source": [
        "2.a fruits= [\"apple\",\"banana\",\"cherry\"]. Print all the items individually.\n"
      ],
      "metadata": {
        "id": "qfdreWKULlrf"
      }
    },
    {
      "cell_type": "code",
      "source": [
        "fruits= [\"apple\",\"banana\",\"cherry\"]\n",
        "for fruit in fruits:\n",
        "  print(fruit)"
      ],
      "metadata": {
        "colab": {
          "base_uri": "https://localhost:8080/"
        },
        "id": "fgjiyZQAL47l",
        "outputId": "e524b8dd-bee8-4e7e-ba65-39681be7b6ca"
      },
      "execution_count": null,
      "outputs": [
        {
          "output_type": "stream",
          "name": "stdout",
          "text": [
            "apple\n",
            "banana\n",
            "cherry\n"
          ]
        }
      ]
    },
    {
      "cell_type": "code",
      "source": [
        "2b Index."
      ],
      "metadata": {
        "id": "3HJU6JAmpPv8"
      },
      "execution_count": null,
      "outputs": []
    },
    {
      "cell_type": "code",
      "source": [
        "fruits = [\"apple\",\"banana\",\"cherry\"]\n",
        "fruits = [\"apple\", \"banana\", \"cherry\"]\n",
        "\n",
        "print(fruits[0])\n",
        "print(fruits[1])\n",
        "print(fruits[2])"
      ],
      "metadata": {
        "colab": {
          "base_uri": "https://localhost:8080/"
        },
        "id": "Uw5L1izRpTIB",
        "outputId": "ec2784e4-61d2-4f5e-f197-777d74e35772"
      },
      "execution_count": null,
      "outputs": [
        {
          "output_type": "stream",
          "name": "stdout",
          "text": [
            "apple\n",
            "banana\n",
            "cherry\n"
          ]
        }
      ]
    },
    {
      "cell_type": "code",
      "source": [
        "3. Turn all items into its square\n",
        "numbers=[1,2,3,4,5,6,7]"
      ],
      "metadata": {
        "id": "-nobWXOVrG7E"
      },
      "execution_count": null,
      "outputs": []
    },
    {
      "cell_type": "code",
      "source": [
        "numbers= [1,2,3,4,5,6,7]\n",
        "squared_numbers = []\n",
        "\n",
        "for num in numbers:\n",
        "    squared = num ** 2\n",
        "    squared_numbers.append(squared)"
      ],
      "metadata": {
        "id": "vG-Sr3cytbxd"
      },
      "execution_count": null,
      "outputs": []
    },
    {
      "cell_type": "markdown",
      "source": [
        "  4. What is a whiles loop?\n",
        "  -A while loop is a loop is loop that will always continue as long as a specific variable is true."
      ],
      "metadata": {
        "id": "wB1v1ibgTE2X"
      }
    },
    {
      "cell_type": "code",
      "source": [],
      "metadata": {
        "id": "CX7V3dU1Tfvm"
      },
      "execution_count": null,
      "outputs": []
    }
  ]
}