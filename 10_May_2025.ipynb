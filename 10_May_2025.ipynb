{
  "nbformat": 4,
  "nbformat_minor": 0,
  "metadata": {
    "colab": {
      "provenance": [],
      "authorship_tag": "ABX9TyMinR2F9b8z9CK8Qt2XUmR7",
      "include_colab_link": true
    },
    "kernelspec": {
      "name": "python3",
      "display_name": "Python 3"
    },
    "language_info": {
      "name": "python"
    }
  },
  "cells": [
    {
      "cell_type": "markdown",
      "metadata": {
        "id": "view-in-github",
        "colab_type": "text"
      },
      "source": [
        "<a href=\"https://colab.research.google.com/github/EQL-123/ACC_Py_Classes/blob/main/10_May_2025.ipynb\" target=\"_parent\"><img src=\"https://colab.research.google.com/assets/colab-badge.svg\" alt=\"Open In Colab\"/></a>"
      ]
    },
    {
      "cell_type": "markdown",
      "source": [
        "1.Create a file called auntieclaire.txt using %%writefile inside write my name"
      ],
      "metadata": {
        "id": "Dv0mWb4rsj8T"
      }
    },
    {
      "cell_type": "code",
      "source": [
        "%%writefile auntieclaire.txt\n",
        "My name"
      ],
      "metadata": {
        "colab": {
          "base_uri": "https://localhost:8080/"
        },
        "id": "au9OCLoqstIC",
        "outputId": "eeed4eb7-d918-43da-e446-ddb798490f92"
      },
      "execution_count": 1,
      "outputs": [
        {
          "output_type": "stream",
          "name": "stdout",
          "text": [
            "Writing auntieclaire.txt\n"
          ]
        }
      ]
    },
    {
      "cell_type": "markdown",
      "source": [
        "2.Open the file using with open() and read the file , show results"
      ],
      "metadata": {
        "id": "vQY3bi0NtB-j"
      }
    },
    {
      "cell_type": "code",
      "source": [
        "with open('auntieclaire.txt', 'r') as file:\n",
        "    contents=file.read()\n",
        "    print(contents)"
      ],
      "metadata": {
        "colab": {
          "base_uri": "https://localhost:8080/"
        },
        "id": "ThF4q2yetK6h",
        "outputId": "3473f759-83ef-4e0b-b554-6c8aa5cc5b6d"
      },
      "execution_count": 8,
      "outputs": [
        {
          "output_type": "stream",
          "name": "stdout",
          "text": [
            "My name\n",
            "\n"
          ]
        }
      ]
    },
    {
      "cell_type": "markdown",
      "source": [
        "3.Open the file again and write Auntie claire a letter dont forget to use new line and also make sure you dont overwrite my name\n"
      ],
      "metadata": {
        "id": "7ohqfJE0uqTp"
      }
    },
    {
      "cell_type": "code",
      "source": [
        "with open('auntieclaire', 'a') as file:\n",
        "    file.write(\"\\n\\nAuntie Claire\")"
      ],
      "metadata": {
        "id": "fCcT0KJIu7AC"
      },
      "execution_count": 9,
      "outputs": []
    },
    {
      "cell_type": "markdown",
      "source": [
        "4.Show the contents above."
      ],
      "metadata": {
        "id": "5sji3ME7v4tw"
      }
    },
    {
      "cell_type": "code",
      "source": [
        "with open('auntieclaire.txt', 'r') as file:\n",
        "    print(file.read())"
      ],
      "metadata": {
        "colab": {
          "base_uri": "https://localhost:8080/"
        },
        "id": "Cf2dfDFTwAKs",
        "outputId": "1485766d-9604-4c89-b325-3583ce7a668f"
      },
      "execution_count": 12,
      "outputs": [
        {
          "output_type": "stream",
          "name": "stdout",
          "text": [
            "My name\n",
            "\n"
          ]
        }
      ]
    }
  ]
}