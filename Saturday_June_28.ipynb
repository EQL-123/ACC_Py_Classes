{
  "nbformat": 4,
  "nbformat_minor": 0,
  "metadata": {
    "colab": {
      "provenance": [],
      "authorship_tag": "ABX9TyMxLRA1iE64EQ+CpfvEkDp6",
      "include_colab_link": true
    },
    "kernelspec": {
      "name": "python3",
      "display_name": "Python 3"
    },
    "language_info": {
      "name": "python"
    }
  },
  "cells": [
    {
      "cell_type": "markdown",
      "metadata": {
        "id": "view-in-github",
        "colab_type": "text"
      },
      "source": [
        "<a href=\"https://colab.research.google.com/github/EQL-123/ACC_Py_Classes/blob/main/Saturday_June_28.ipynb\" target=\"_parent\"><img src=\"https://colab.research.google.com/assets/colab-badge.svg\" alt=\"Open In Colab\"/></a>"
      ]
    },
    {
      "cell_type": "markdown",
      "source": [
        "1.Given a list of numbers , write function a to find the sum of all numbers in it"
      ],
      "metadata": {
        "id": "AlOiC_OzABIL"
      }
    },
    {
      "cell_type": "code",
      "source": [
        "nums = [1, 3, 5, 7]\n",
        "total = sum(nums)\n",
        "print(total)"
      ],
      "metadata": {
        "colab": {
          "base_uri": "https://localhost:8080/"
        },
        "id": "ntE4ReBLADt-",
        "outputId": "7d31ce97-568d-4911-c4c2-7fbe8cac860a"
      },
      "execution_count": 3,
      "outputs": [
        {
          "output_type": "stream",
          "name": "stdout",
          "text": [
            "16\n"
          ]
        }
      ]
    },
    {
      "cell_type": "markdown",
      "source": [
        "2. Given a list of numbers, return positive numbers"
      ],
      "metadata": {
        "id": "cYE_pdzdDLt-"
      }
    },
    {
      "cell_type": "code",
      "source": [
        "nums = [-1, 2, -3, 4, -5]\n",
        "positive_nums = [num for num in nums if num > 0]\n",
        "print(positive_nums)\n"
      ],
      "metadata": {
        "colab": {
          "base_uri": "https://localhost:8080/"
        },
        "id": "zbwSX-egDRzd",
        "outputId": "b421ce1f-7b84-4fb7-b200-d573c6b4e805"
      },
      "execution_count": 4,
      "outputs": [
        {
          "output_type": "stream",
          "name": "stdout",
          "text": [
            "[2, 4]\n"
          ]
        }
      ]
    },
    {
      "cell_type": "markdown",
      "source": [
        "3. Given a list of numbers, return negative numbers\n"
      ],
      "metadata": {
        "id": "f7fYuiq7Dgm-"
      }
    },
    {
      "cell_type": "code",
      "source": [
        "nums = [-1, 2, -3, 4, -5]\n",
        "negative_nums = [num for num in nums if num <0]\n",
        "print(negative_nums)"
      ],
      "metadata": {
        "colab": {
          "base_uri": "https://localhost:8080/"
        },
        "id": "KcAvFvifDl0h",
        "outputId": "9621bd41-5488-4b50-eb1c-711ac1e9bb99"
      },
      "execution_count": 6,
      "outputs": [
        {
          "output_type": "stream",
          "name": "stdout",
          "text": [
            "[-1, -3, -5]\n"
          ]
        }
      ]
    }
  ]
}