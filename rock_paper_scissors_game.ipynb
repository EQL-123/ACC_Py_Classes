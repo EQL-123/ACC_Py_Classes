{
  "cells": [
    {
      "cell_type": "markdown",
      "metadata": {
        "id": "view-in-github",
        "colab_type": "text"
      },
      "source": [
        "<a href=\"https://colab.research.google.com/github/EQL-123/ACC_Py_Classes/blob/main/rock_paper_scissors_game.ipynb\" target=\"_parent\"><img src=\"https://colab.research.google.com/assets/colab-badge.svg\" alt=\"Open In Colab\"/></a>"
      ]
    },
    {
      "cell_type": "code",
      "execution_count": null,
      "metadata": {
        "colab": {
          "background_save": true,
          "base_uri": "https://localhost:8080/"
        },
        "id": "XGgZKd5sFaZt",
        "outputId": "8980ffe9-5ef1-4bb5-9b26-e167993b9429"
      },
      "outputs": [
        {
          "name": "stdout",
          "output_type": "stream",
          "text": [
            "Computer chose: paper\n",
            "Tie!\n",
            "\n",
            "Computer chose: rock\n",
            "Tie!\n",
            "\n",
            "Computer chose: paper\n",
            "You win!\n",
            "\n",
            "Computer chose: rock\n",
            "Tie!\n",
            "\n",
            "Computer chose: paper\n",
            "You win!\n",
            "\n"
          ]
        }
      ],
      "source": [
        "import random\n",
        "\n",
        "choices = [\"rock\", \"paper\", \"scissors\"]\n",
        "\n",
        "user_score = 0\n",
        "computer_score = 0\n",
        "\n",
        "while True:\n",
        "    user_input = input(\"Your move (rock, paper, scissors) \").lower()\n",
        "    if user_input == \"q\":\n",
        "        print(\"Game Over\")\n",
        "        print(f\"Your score: {user_score}\")\n",
        "        print(f\"Computer score: {computer_score}\")\n",
        "        break\n",
        "\n",
        "    if user_input not in choices:\n",
        "        print(\"Invalid choice. Please choose rock, paper, or scissors.\")\n",
        "        continue\n",
        "\n",
        "    computer_choice = random.choice(choices)\n",
        "    print(f\"Computer chose: {computer_choice}\")\n"
      ]
    }
  ],
  "metadata": {
    "colab": {
      "provenance": [],
      "authorship_tag": "ABX9TyNxnY0SblQUByf7KCYwHE14",
      "include_colab_link": true
    },
    "kernelspec": {
      "display_name": "Python 3",
      "name": "python3"
    },
    "language_info": {
      "name": "python"
    }
  },
  "nbformat": 4,
  "nbformat_minor": 0
}